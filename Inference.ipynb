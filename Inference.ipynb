{
 "cells": [
  {
   "cell_type": "code",
   "execution_count": 1,
   "metadata": {},
   "outputs": [
    {
     "name": "stderr",
     "output_type": "stream",
     "text": [
      "C:\\Users\\oscar\\AppData\\Roaming\\Python\\Python311\\site-packages\\tqdm\\auto.py:21: TqdmWarning: IProgress not found. Please update jupyter and ipywidgets. See https://ipywidgets.readthedocs.io/en/stable/user_install.html\n",
      "  from .autonotebook import tqdm as notebook_tqdm\n",
      "C:\\Users\\oscar\\AppData\\Roaming\\Python\\Python311\\site-packages\\torchaudio\\backend\\utils.py:74: UserWarning: No audio backend is available.\n",
      "  warnings.warn(\"No audio backend is available.\")\n"
     ]
    }
   ],
   "source": [
    "from pathlib import Path\n",
    "import torch\n",
    "import torch.nn as nn\n",
    "from config import get_config, get_weights_file_path\n",
    "from train import get_model, get_ds_csv, run_validation\n",
    "from train import translate_input_string, translate_input_string_alt, eos_add, translate_input_string_test"
   ]
  },
  {
   "cell_type": "code",
   "execution_count": 2,
   "metadata": {},
   "outputs": [
    {
     "name": "stdout",
     "output_type": "stream",
     "text": [
      "Using device: cuda\n",
      "Max length of source sentence: 22\n",
      "Max length of target sentence: 24\n"
     ]
    },
    {
     "data": {
      "text/plain": [
       "<All keys matched successfully>"
      ]
     },
     "execution_count": 2,
     "metadata": {},
     "output_type": "execute_result"
    }
   ],
   "source": [
    "# Define the device\n",
    "device = torch.device(\"cuda\" if torch.cuda.is_available() else \"cpu\")\n",
    "print(\"Using device:\", device)\n",
    "config = get_config()\n",
    "# config['model_basename'] = \"tmodel_eight_four_id_\"\n",
    "config['model_basename'] = \"tmodel_eight_four_\"\n",
    "# Training bahasa target menjadi bahasa Maanyan\n",
    "# config['lang_src'] = \"Indonesia\"\n",
    "# config['lang_tgt'] = \"Maanyan\"\n",
    "train_dataloader, val_dataloader, tokenizer_src, tokenizer_tgt = get_ds_csv(config)\n",
    "model = get_model(config, tokenizer_src.get_vocab_size(), tokenizer_tgt.get_vocab_size()).to(device)\n",
    "\n",
    "# Load the pretrained weights\n",
    "model_filename = get_weights_file_path(config, f\"60\")\n",
    "state = torch.load(model_filename)\n",
    "model.load_state_dict(state['model_state_dict'])"
   ]
  },
  {
   "cell_type": "code",
   "execution_count": 3,
   "metadata": {},
   "outputs": [
    {
     "name": "stdout",
     "output_type": "stream",
     "text": [
      "[7]\n",
      "encoder_mask\n",
      "tensor([[[[1]]]], device='cuda:0')\n",
      "tensor([[[-1.4840e+00, -7.9772e-01, -7.4627e-01, -5.3501e-01,  3.2536e-01,\n",
      "           1.4295e+00,  9.3916e-01,  5.8246e-01,  1.1872e+00,  2.1721e-01,\n",
      "           6.9799e-01, -5.4849e-01,  8.8906e-01,  9.4425e-01,  9.6896e-01,\n",
      "           4.5645e-01,  4.4833e-01, -2.2724e-02, -6.3422e-01,  6.2707e-01,\n",
      "          -1.1297e-01,  1.3653e+00,  1.7171e+00, -4.0687e-01, -2.4331e+00,\n",
      "           2.2592e-01, -7.0665e-01,  1.4628e+00,  4.6239e-02,  1.8869e+00,\n",
      "           2.2283e-01,  7.8112e-03,  1.1667e+00, -7.4777e-01, -1.0916e+00,\n",
      "          -5.5236e-01,  1.6790e+00,  7.9127e-01,  7.5545e-01, -1.2387e+00,\n",
      "          -4.5585e-01, -3.2565e-01, -7.2965e-01,  1.3799e+00,  7.9528e-01,\n",
      "          -2.3613e-01, -1.4368e+00, -1.4632e-01, -2.0903e+00, -1.4042e-01,\n",
      "           6.0188e-01,  2.2229e+00,  7.0592e-01, -5.2225e-01,  6.4666e-01,\n",
      "          -9.8753e-01, -2.5090e+00, -3.8189e-01,  1.2537e+00,  1.8164e+00,\n",
      "           3.1610e-02, -8.2459e-02,  2.2661e-01,  6.9827e-01, -1.9903e+00,\n",
      "          -2.2863e+00,  8.4801e-01,  1.9677e+00,  2.5910e-01,  1.0965e+00,\n",
      "           4.3255e-01,  5.9080e-01,  6.0983e-01, -2.9892e-02,  1.6572e+00,\n",
      "          -1.2681e+00, -1.9888e-01,  1.2702e+00, -8.1300e-01,  2.3587e-01,\n",
      "           2.5948e-01, -8.0874e-01, -1.5192e+00,  1.1137e+00, -1.9093e+00,\n",
      "           1.1873e+00, -3.6917e-01,  1.4049e+00, -2.0381e+00,  5.7371e-02,\n",
      "           1.6531e+00,  2.2067e+00,  9.3223e-01,  7.2158e-01, -1.0518e-01,\n",
      "          -3.5629e-01, -9.1510e-01, -6.1014e-01, -1.0810e+00, -7.0185e-01,\n",
      "           2.3564e-01,  1.2854e+00,  8.4078e-01, -1.9440e-01, -1.1783e+00,\n",
      "          -1.2764e-01,  2.4893e-01, -2.2550e+00, -3.6580e-01, -3.2217e-01,\n",
      "          -4.9417e-01, -7.3972e-01, -1.2216e+00,  1.0443e+00,  1.6026e+00,\n",
      "          -1.1574e+00, -3.2783e-01,  1.3370e+00, -2.5475e+00, -4.8348e-01,\n",
      "          -9.3642e-01,  8.3282e-01,  6.1494e-01,  1.3273e-01,  1.0704e+00,\n",
      "          -4.3542e-01,  5.4671e-01,  2.0907e-01,  1.8633e-01,  1.2821e-01,\n",
      "          -7.9906e-01, -9.6241e-01, -1.1184e+00, -8.5817e-01, -2.3517e+00,\n",
      "           1.5708e+00,  7.4082e-01,  6.6871e-01, -5.3474e-01, -9.0823e-01,\n",
      "          -7.0293e-01,  1.8219e-01,  9.8164e-01, -7.3880e-01, -9.3476e-01,\n",
      "           1.0429e-01, -6.5081e-01,  7.5348e-01, -6.1595e-01,  1.1736e-01,\n",
      "          -6.2866e-01, -3.1716e-01,  1.0418e+00, -7.3868e-01, -2.2271e+00,\n",
      "           1.4375e+00,  3.9800e-01,  1.4779e+00, -4.9394e-03, -1.1842e+00,\n",
      "           2.4607e-01,  3.4920e-01, -4.6315e-01,  6.7295e-01, -1.4016e+00,\n",
      "          -9.8518e-01,  1.7134e+00,  1.4860e-01,  1.3996e-01, -1.0928e+00,\n",
      "           5.0180e-01,  1.0120e+00,  5.1371e-01,  5.4073e-01,  1.2879e+00,\n",
      "          -1.6164e+00, -6.9921e-01, -1.0258e+00,  3.2503e-01, -1.2004e+00,\n",
      "           1.7044e-01, -3.4538e-01, -3.6329e-01, -2.0105e+00, -2.7342e-01,\n",
      "          -6.0585e-01,  8.5904e-01,  9.9563e-02, -3.9184e-02, -1.5386e+00,\n",
      "           9.9769e-01, -2.4702e-01, -1.2583e+00,  8.0100e-01, -1.3690e+00,\n",
      "           4.4938e-01,  1.0829e+00,  8.5371e-01,  6.0013e-01, -8.4499e-01,\n",
      "          -9.4036e-01,  6.3193e-01,  6.7111e-01,  1.0870e+00,  4.3051e-01,\n",
      "           6.1894e-02, -1.5294e+00, -9.9257e-01,  1.9478e-01,  7.8726e-01,\n",
      "           2.4681e-01,  8.1518e-01,  1.7785e-01, -2.4167e-01,  6.1892e-01,\n",
      "           6.4589e-01,  8.0649e-01, -2.2536e-01, -1.9535e-01,  1.7523e+00,\n",
      "          -1.3178e-01,  4.4958e-01, -4.1093e-01,  7.5839e-01,  5.0943e-01,\n",
      "          -1.3856e+00,  6.2149e-01,  3.1430e-01, -9.0659e-02, -1.3051e-01,\n",
      "           6.0833e-01,  9.3103e-01,  1.9239e+00,  2.7099e-01,  3.2769e-01,\n",
      "           2.5966e-01, -1.4292e-01, -3.4245e-01, -1.1219e+00, -4.7528e-01,\n",
      "           8.8599e-01,  1.0575e-01,  1.3487e+00,  1.0522e+00, -5.4368e-01,\n",
      "           6.7611e-01, -5.1066e-01, -4.4551e-01,  8.2880e-01,  2.4469e-01,\n",
      "           1.1729e+00,  3.3911e-01,  4.9871e-01, -2.5119e+00,  4.3698e-01,\n",
      "           8.1944e-01, -2.4932e+00,  1.1112e+00, -3.5241e-01,  9.4210e-01,\n",
      "          -7.9197e-01, -7.6314e-01, -1.4271e+00, -3.9365e-01, -3.3833e-02,\n",
      "          -1.0876e+00,  9.9302e-02, -3.2556e-01, -1.1777e+00, -5.8548e-01,\n",
      "          -4.7857e-01, -1.0438e+00,  6.0455e-01, -5.7585e-01,  5.4335e-01,\n",
      "          -1.5445e-01,  4.5656e-01,  1.2795e+00,  6.5373e-02,  3.2529e+00,\n",
      "          -7.4754e-01,  7.0978e-01,  1.1049e+00,  6.6311e-01, -6.2220e-01,\n",
      "          -3.1416e-01, -5.4810e-01, -8.5948e-01,  5.3111e-01, -2.2506e-01,\n",
      "          -2.5759e-01,  6.0264e-01, -8.4480e-01,  9.6851e-01,  7.2058e-01,\n",
      "          -4.6164e-01, -1.4426e+00,  2.3352e-01,  6.1117e-01,  4.6427e-01,\n",
      "           1.2963e+00,  1.8585e+00,  2.3772e-01,  5.8942e-01, -9.1538e-01,\n",
      "           8.1730e-01,  8.2860e-01,  6.6657e-02, -1.0368e+00,  5.1541e-01,\n",
      "           5.3133e-01,  1.3750e+00,  5.3026e-01, -1.0876e+00,  4.7511e-01,\n",
      "          -6.0635e-01, -9.7745e-01, -7.8341e-01,  1.8131e+00,  1.6726e-01,\n",
      "           1.0118e+00, -1.1763e+00, -1.0954e+00, -1.0872e+00, -1.4885e+00,\n",
      "           4.9776e-01, -6.0537e-02,  4.1688e-01, -2.3768e+00, -1.3900e+00,\n",
      "           3.9870e-01,  2.8382e-01,  2.1762e+00, -8.1100e-03,  1.1387e+00,\n",
      "          -1.7481e+00, -1.2690e+00,  5.9739e-01,  3.1073e-01,  1.0998e-02,\n",
      "           1.4425e+00,  2.2788e-01,  7.2974e-01, -3.7718e-01,  9.0487e-01,\n",
      "          -3.7754e-01, -1.6385e-01,  1.4003e+00, -8.4141e-01,  2.2620e-01,\n",
      "           7.6233e-01, -4.3028e-01, -1.2306e+00,  3.8087e-01, -6.2880e-01,\n",
      "           6.6014e-01,  5.0880e-01,  1.1358e+00, -6.2056e-01,  6.0697e-01,\n",
      "           1.1415e+00, -2.1591e-01, -1.5490e+00,  2.9105e-02, -1.4725e+00,\n",
      "          -4.6421e-01, -5.5639e-01,  1.8126e+00, -8.4425e-01, -1.1883e-01,\n",
      "           3.0059e-01, -8.0112e-01, -8.2043e-01,  4.2916e-01, -5.1784e-01,\n",
      "           1.1554e+00,  1.1103e+00,  7.5433e-01, -2.6690e-01, -2.9331e-01,\n",
      "           1.6579e+00,  6.3370e-01,  2.2016e+00,  1.1411e+00, -6.9549e-01,\n",
      "          -7.7130e-01,  1.1750e+00, -4.9406e-01, -9.7550e-01,  5.7815e-01,\n",
      "           3.5617e-01,  9.6980e-03,  4.0482e-01,  7.1978e-01, -7.4323e-01,\n",
      "           4.6589e-01,  6.0747e-01,  5.2532e-01,  2.1732e-01, -4.6325e-01,\n",
      "          -1.1406e+00,  3.5604e-01, -8.4498e-01,  1.9313e+00,  6.7589e-01,\n",
      "          -2.6392e-01, -7.7147e-01, -9.1278e-01, -2.4616e-01, -5.6428e-01,\n",
      "          -8.3874e-01, -3.4069e-01,  2.0855e-01, -1.4591e-01,  4.6570e-01,\n",
      "          -1.6897e+00, -8.4324e-04, -6.7105e-01, -3.4019e+00, -8.5003e-01,\n",
      "          -7.4794e-01,  8.8265e-03, -2.8091e+00,  5.1069e-01,  2.9253e-01,\n",
      "           3.3631e-02,  4.1276e-01, -6.7217e-01, -5.6357e-01, -2.1683e-01,\n",
      "           7.5610e-01, -6.2514e-01, -1.0642e-01, -2.1121e+00, -2.3159e+00,\n",
      "           9.2610e-01, -5.1126e-01,  1.1473e+00,  2.8442e+00, -1.1314e+00,\n",
      "           5.2854e-01, -1.4539e+00,  2.6985e-01,  2.4827e-01, -6.6472e-01,\n",
      "          -6.5130e-02,  3.3486e-01, -3.9031e-01, -1.0901e+00,  7.1583e-01,\n",
      "           2.2898e-01,  8.9710e-01,  7.7336e-01, -1.9724e-01,  1.6344e+00,\n",
      "           7.5688e-01, -5.1633e-01, -1.7527e+00,  1.1245e+00,  5.7830e-01,\n",
      "           6.4928e-01,  4.7639e-01,  8.9412e-02,  1.1462e+00,  7.1207e-01,\n",
      "           6.6768e-01,  1.1673e-01, -1.5336e+00,  1.2967e+00, -3.1490e-01,\n",
      "          -1.7045e+00,  5.5285e-01, -1.2811e+00,  3.0762e-01, -8.5586e-02,\n",
      "           1.2025e+00,  1.0505e+00, -4.2995e-01,  7.6399e-01, -2.4622e-01,\n",
      "           1.1249e+00, -7.2354e-02,  6.1004e-01, -8.9806e-01, -1.1724e-01,\n",
      "           4.2724e-02,  3.6140e-01, -5.7300e-01,  1.0273e+00,  6.6634e-01,\n",
      "          -2.1474e+00, -1.2409e+00,  6.5896e-01,  1.7192e+00, -1.6718e-01,\n",
      "           9.7330e-02, -6.1908e-01, -9.5065e-01, -2.2564e+00, -1.8575e+00,\n",
      "          -1.1336e+00, -1.3265e+00, -1.7382e-01, -7.6750e-02, -6.8353e-01,\n",
      "           8.8911e-01, -1.0025e+00, -9.3018e-01,  9.4380e-01,  6.4795e-01,\n",
      "          -5.5381e-01, -4.4731e-01]]], device='cuda:0', grad_fn=<AddBackward0>)\n",
      "tensor([6], device='cuda:0')\n",
      "tensor([6], device='cuda:0')\n",
      "tensor([6], device='cuda:0')\n",
      "tensor([7], device='cuda:0')\n",
      "tensor([6], device='cuda:0')\n",
      "tensor([6], device='cuda:0')\n",
      "tensor([6], device='cuda:0')\n",
      "tensor([6], device='cuda:0')\n",
      "tensor([6], device='cuda:0')\n",
      "tensor([6], device='cuda:0')\n",
      "tensor([3], device='cuda:0')\n"
     ]
    }
   ],
   "source": [
    "input_string = \"hanyu\"\n",
    "\n",
    "translation = translate_input_string_test(model, input_string, tokenizer_src, tokenizer_tgt, config['seq_len'], device)\n"
   ]
  },
  {
   "cell_type": "code",
   "execution_count": 4,
   "metadata": {},
   "outputs": [
    {
     "name": "stdout",
     "output_type": "stream",
     "text": [
      "tensor([[[-1.4840e+00, -7.9772e-01, -7.4627e-01, -5.3501e-01,  3.2536e-01,\n",
      "           1.4295e+00,  9.3916e-01,  5.8246e-01,  1.1872e+00,  2.1721e-01,\n",
      "           6.9799e-01, -5.4849e-01,  8.8906e-01,  9.4425e-01,  9.6896e-01,\n",
      "           4.5645e-01,  4.4833e-01, -2.2724e-02, -6.3422e-01,  6.2707e-01,\n",
      "          -1.1297e-01,  1.3653e+00,  1.7171e+00, -4.0687e-01, -2.4331e+00,\n",
      "           2.2592e-01, -7.0665e-01,  1.4628e+00,  4.6239e-02,  1.8869e+00,\n",
      "           2.2283e-01,  7.8112e-03,  1.1667e+00, -7.4777e-01, -1.0916e+00,\n",
      "          -5.5236e-01,  1.6790e+00,  7.9127e-01,  7.5545e-01, -1.2387e+00,\n",
      "          -4.5585e-01, -3.2565e-01, -7.2965e-01,  1.3799e+00,  7.9528e-01,\n",
      "          -2.3613e-01, -1.4368e+00, -1.4632e-01, -2.0903e+00, -1.4042e-01,\n",
      "           6.0188e-01,  2.2229e+00,  7.0592e-01, -5.2225e-01,  6.4666e-01,\n",
      "          -9.8753e-01, -2.5090e+00, -3.8189e-01,  1.2537e+00,  1.8164e+00,\n",
      "           3.1610e-02, -8.2459e-02,  2.2661e-01,  6.9827e-01, -1.9903e+00,\n",
      "          -2.2863e+00,  8.4801e-01,  1.9677e+00,  2.5910e-01,  1.0965e+00,\n",
      "           4.3255e-01,  5.9080e-01,  6.0983e-01, -2.9892e-02,  1.6572e+00,\n",
      "          -1.2681e+00, -1.9888e-01,  1.2702e+00, -8.1300e-01,  2.3587e-01,\n",
      "           2.5948e-01, -8.0874e-01, -1.5192e+00,  1.1137e+00, -1.9093e+00,\n",
      "           1.1873e+00, -3.6917e-01,  1.4049e+00, -2.0381e+00,  5.7371e-02,\n",
      "           1.6531e+00,  2.2067e+00,  9.3223e-01,  7.2158e-01, -1.0518e-01,\n",
      "          -3.5629e-01, -9.1510e-01, -6.1014e-01, -1.0810e+00, -7.0185e-01,\n",
      "           2.3564e-01,  1.2854e+00,  8.4078e-01, -1.9440e-01, -1.1783e+00,\n",
      "          -1.2764e-01,  2.4893e-01, -2.2550e+00, -3.6580e-01, -3.2217e-01,\n",
      "          -4.9417e-01, -7.3972e-01, -1.2216e+00,  1.0443e+00,  1.6026e+00,\n",
      "          -1.1574e+00, -3.2783e-01,  1.3370e+00, -2.5475e+00, -4.8348e-01,\n",
      "          -9.3642e-01,  8.3282e-01,  6.1494e-01,  1.3273e-01,  1.0704e+00,\n",
      "          -4.3542e-01,  5.4671e-01,  2.0907e-01,  1.8633e-01,  1.2821e-01,\n",
      "          -7.9906e-01, -9.6241e-01, -1.1184e+00, -8.5817e-01, -2.3517e+00,\n",
      "           1.5708e+00,  7.4082e-01,  6.6871e-01, -5.3474e-01, -9.0823e-01,\n",
      "          -7.0293e-01,  1.8219e-01,  9.8164e-01, -7.3880e-01, -9.3476e-01,\n",
      "           1.0429e-01, -6.5081e-01,  7.5348e-01, -6.1595e-01,  1.1736e-01,\n",
      "          -6.2866e-01, -3.1716e-01,  1.0418e+00, -7.3868e-01, -2.2271e+00,\n",
      "           1.4375e+00,  3.9800e-01,  1.4779e+00, -4.9394e-03, -1.1842e+00,\n",
      "           2.4607e-01,  3.4920e-01, -4.6315e-01,  6.7295e-01, -1.4016e+00,\n",
      "          -9.8518e-01,  1.7134e+00,  1.4860e-01,  1.3996e-01, -1.0928e+00,\n",
      "           5.0180e-01,  1.0120e+00,  5.1371e-01,  5.4073e-01,  1.2879e+00,\n",
      "          -1.6164e+00, -6.9921e-01, -1.0258e+00,  3.2503e-01, -1.2004e+00,\n",
      "           1.7044e-01, -3.4538e-01, -3.6329e-01, -2.0105e+00, -2.7342e-01,\n",
      "          -6.0585e-01,  8.5904e-01,  9.9563e-02, -3.9184e-02, -1.5386e+00,\n",
      "           9.9769e-01, -2.4702e-01, -1.2583e+00,  8.0100e-01, -1.3690e+00,\n",
      "           4.4938e-01,  1.0829e+00,  8.5371e-01,  6.0013e-01, -8.4499e-01,\n",
      "          -9.4036e-01,  6.3193e-01,  6.7111e-01,  1.0870e+00,  4.3051e-01,\n",
      "           6.1894e-02, -1.5294e+00, -9.9257e-01,  1.9478e-01,  7.8726e-01,\n",
      "           2.4681e-01,  8.1518e-01,  1.7785e-01, -2.4167e-01,  6.1892e-01,\n",
      "           6.4589e-01,  8.0649e-01, -2.2536e-01, -1.9535e-01,  1.7523e+00,\n",
      "          -1.3178e-01,  4.4958e-01, -4.1093e-01,  7.5839e-01,  5.0943e-01,\n",
      "          -1.3856e+00,  6.2149e-01,  3.1430e-01, -9.0659e-02, -1.3051e-01,\n",
      "           6.0833e-01,  9.3103e-01,  1.9239e+00,  2.7099e-01,  3.2769e-01,\n",
      "           2.5966e-01, -1.4292e-01, -3.4245e-01, -1.1219e+00, -4.7528e-01,\n",
      "           8.8599e-01,  1.0575e-01,  1.3487e+00,  1.0522e+00, -5.4368e-01,\n",
      "           6.7611e-01, -5.1066e-01, -4.4551e-01,  8.2880e-01,  2.4469e-01,\n",
      "           1.1729e+00,  3.3911e-01,  4.9871e-01, -2.5119e+00,  4.3698e-01,\n",
      "           8.1944e-01, -2.4932e+00,  1.1112e+00, -3.5241e-01,  9.4210e-01,\n",
      "          -7.9197e-01, -7.6314e-01, -1.4271e+00, -3.9365e-01, -3.3833e-02,\n",
      "          -1.0876e+00,  9.9302e-02, -3.2556e-01, -1.1777e+00, -5.8548e-01,\n",
      "          -4.7857e-01, -1.0438e+00,  6.0455e-01, -5.7585e-01,  5.4335e-01,\n",
      "          -1.5445e-01,  4.5656e-01,  1.2795e+00,  6.5373e-02,  3.2529e+00,\n",
      "          -7.4754e-01,  7.0978e-01,  1.1049e+00,  6.6311e-01, -6.2220e-01,\n",
      "          -3.1416e-01, -5.4810e-01, -8.5948e-01,  5.3111e-01, -2.2506e-01,\n",
      "          -2.5759e-01,  6.0264e-01, -8.4480e-01,  9.6851e-01,  7.2058e-01,\n",
      "          -4.6164e-01, -1.4426e+00,  2.3352e-01,  6.1117e-01,  4.6427e-01,\n",
      "           1.2963e+00,  1.8585e+00,  2.3772e-01,  5.8942e-01, -9.1538e-01,\n",
      "           8.1730e-01,  8.2860e-01,  6.6657e-02, -1.0368e+00,  5.1541e-01,\n",
      "           5.3133e-01,  1.3750e+00,  5.3026e-01, -1.0876e+00,  4.7511e-01,\n",
      "          -6.0635e-01, -9.7745e-01, -7.8341e-01,  1.8131e+00,  1.6726e-01,\n",
      "           1.0118e+00, -1.1763e+00, -1.0954e+00, -1.0872e+00, -1.4885e+00,\n",
      "           4.9776e-01, -6.0537e-02,  4.1688e-01, -2.3768e+00, -1.3900e+00,\n",
      "           3.9870e-01,  2.8382e-01,  2.1762e+00, -8.1100e-03,  1.1387e+00,\n",
      "          -1.7481e+00, -1.2690e+00,  5.9739e-01,  3.1073e-01,  1.0998e-02,\n",
      "           1.4425e+00,  2.2788e-01,  7.2974e-01, -3.7718e-01,  9.0487e-01,\n",
      "          -3.7754e-01, -1.6385e-01,  1.4003e+00, -8.4141e-01,  2.2620e-01,\n",
      "           7.6233e-01, -4.3028e-01, -1.2306e+00,  3.8087e-01, -6.2880e-01,\n",
      "           6.6014e-01,  5.0880e-01,  1.1358e+00, -6.2056e-01,  6.0697e-01,\n",
      "           1.1415e+00, -2.1591e-01, -1.5490e+00,  2.9105e-02, -1.4725e+00,\n",
      "          -4.6421e-01, -5.5639e-01,  1.8126e+00, -8.4425e-01, -1.1883e-01,\n",
      "           3.0059e-01, -8.0112e-01, -8.2043e-01,  4.2916e-01, -5.1784e-01,\n",
      "           1.1554e+00,  1.1103e+00,  7.5433e-01, -2.6690e-01, -2.9331e-01,\n",
      "           1.6579e+00,  6.3370e-01,  2.2016e+00,  1.1411e+00, -6.9549e-01,\n",
      "          -7.7130e-01,  1.1750e+00, -4.9406e-01, -9.7550e-01,  5.7815e-01,\n",
      "           3.5617e-01,  9.6980e-03,  4.0482e-01,  7.1978e-01, -7.4323e-01,\n",
      "           4.6589e-01,  6.0747e-01,  5.2532e-01,  2.1732e-01, -4.6325e-01,\n",
      "          -1.1406e+00,  3.5604e-01, -8.4498e-01,  1.9313e+00,  6.7589e-01,\n",
      "          -2.6392e-01, -7.7147e-01, -9.1278e-01, -2.4616e-01, -5.6428e-01,\n",
      "          -8.3874e-01, -3.4069e-01,  2.0855e-01, -1.4591e-01,  4.6570e-01,\n",
      "          -1.6897e+00, -8.4324e-04, -6.7105e-01, -3.4019e+00, -8.5003e-01,\n",
      "          -7.4794e-01,  8.8265e-03, -2.8091e+00,  5.1069e-01,  2.9253e-01,\n",
      "           3.3631e-02,  4.1276e-01, -6.7217e-01, -5.6357e-01, -2.1683e-01,\n",
      "           7.5610e-01, -6.2514e-01, -1.0642e-01, -2.1121e+00, -2.3159e+00,\n",
      "           9.2610e-01, -5.1126e-01,  1.1473e+00,  2.8442e+00, -1.1314e+00,\n",
      "           5.2854e-01, -1.4539e+00,  2.6985e-01,  2.4827e-01, -6.6472e-01,\n",
      "          -6.5130e-02,  3.3486e-01, -3.9031e-01, -1.0901e+00,  7.1583e-01,\n",
      "           2.2898e-01,  8.9710e-01,  7.7336e-01, -1.9724e-01,  1.6344e+00,\n",
      "           7.5688e-01, -5.1633e-01, -1.7527e+00,  1.1245e+00,  5.7830e-01,\n",
      "           6.4928e-01,  4.7639e-01,  8.9412e-02,  1.1462e+00,  7.1207e-01,\n",
      "           6.6768e-01,  1.1673e-01, -1.5336e+00,  1.2967e+00, -3.1490e-01,\n",
      "          -1.7045e+00,  5.5285e-01, -1.2811e+00,  3.0762e-01, -8.5586e-02,\n",
      "           1.2025e+00,  1.0505e+00, -4.2995e-01,  7.6399e-01, -2.4622e-01,\n",
      "           1.1249e+00, -7.2354e-02,  6.1004e-01, -8.9806e-01, -1.1724e-01,\n",
      "           4.2724e-02,  3.6140e-01, -5.7300e-01,  1.0273e+00,  6.6634e-01,\n",
      "          -2.1474e+00, -1.2409e+00,  6.5896e-01,  1.7192e+00, -1.6718e-01,\n",
      "           9.7330e-02, -6.1908e-01, -9.5065e-01, -2.2564e+00, -1.8575e+00,\n",
      "          -1.1336e+00, -1.3265e+00, -1.7382e-01, -7.6750e-02, -6.8353e-01,\n",
      "           8.8911e-01, -1.0025e+00, -9.3018e-01,  9.4380e-01,  6.4795e-01,\n",
      "          -5.5381e-01, -4.4731e-01]]], device='cuda:0', grad_fn=<AddBackward0>)\n",
      "Input String    : 'hanyu'\n",
      "Translation     : 'kamu kamu kamu dan kamu kamu kamu kamu kamu kamu'\n"
     ]
    }
   ],
   "source": [
    "input_string = \"hanyu\"\n",
    "\n",
    "# input_string = eos_add(input_string)\n",
    "\n",
    "# print(input_string)\n",
    "translation = translate_input_string(model, input_string, tokenizer_src, tokenizer_tgt, config['seq_len'], device)\n",
    "print(f\"Input String    : '{input_string}'\")\n",
    "print(f\"Translation     : '{translation}'\")"
   ]
  },
  {
   "cell_type": "code",
   "execution_count": 99,
   "metadata": {},
   "outputs": [
    {
     "name": "stdout",
     "output_type": "stream",
     "text": [
      "Input String    : 'aku makan durian kamu'\n",
      "Output String   : 'hayu naun hawi ma ina'\n",
      "Translation     : 'aku andri hanyu nguta ruyan'\n",
      "===============================================\n",
      "Input String    : 'mulek'\n",
      "Output String   : 'pulang'\n",
      "Translation     : ''\n",
      "===============================================\n",
      "Input String    : 'aku terkejut'\n",
      "Output String   : 'embah aku'\n",
      "Translation     : 'aku'\n"
     ]
    }
   ],
   "source": [
    "def add_eos(string):\n",
    "    return \"\"+ string + \"\"\n",
    "\n",
    "# Menggunakan fungsi translate_input_string\n",
    "\n",
    "# input_string = add_eos(\"aku\") \n",
    "input_string = [\"aku makan durian kamu\", \"mulek\", \"aku terkejut\"]\n",
    "output_string = [\"hayu naun hawi ma ina\", \"pulang\", 'embah aku']\n",
    "translation = translate_input_string(model, input_string[0], tokenizer_src, tokenizer_tgt, config['seq_len'], device)\n",
    "print(f\"Input String    : '{input_string[0]}'\")\n",
    "print(f\"Output String   : '{output_string[0]}'\")\n",
    "print(f\"Translation     : '{translation}'\")\n",
    "print('===============================================')\n",
    "translation = translate_input_string(model, input_string[1], tokenizer_src, tokenizer_tgt, config['seq_len'], device)\n",
    "print(f\"Input String    : '{input_string[1]}'\")\n",
    "print(f\"Output String   : '{output_string[1]}'\")\n",
    "print(f\"Translation     : '{translation}'\")\n",
    "print('===============================================')\n",
    "translation = translate_input_string(model, input_string[2], tokenizer_src, tokenizer_tgt, config['seq_len'], device)\n",
    "print(f\"Input String    : '{input_string[2]}'\")\n",
    "print(f\"Output String   : '{output_string[2]}'\")\n",
    "print(f\"Translation     : '{translation}'\")"
   ]
  },
  {
   "cell_type": "code",
   "execution_count": 4,
   "metadata": {},
   "outputs": [
    {
     "name": "stdout",
     "output_type": "stream",
     "text": [
      "kamu makan [EOS]\n"
     ]
    }
   ],
   "source": [
    "jika = \"kamu makan.\"\n",
    "\n",
    "print(eos_add(jika))"
   ]
  },
  {
   "cell_type": "code",
   "execution_count": 113,
   "metadata": {},
   "outputs": [],
   "source": [
    "from nltk.translate.bleu_score import sentence_bleu"
   ]
  },
  {
   "cell_type": "code",
   "execution_count": 134,
   "metadata": {},
   "outputs": [
    {
     "name": "stdout",
     "output_type": "stream",
     "text": [
      "0.42857142857142855\n"
     ]
    }
   ],
   "source": [
    "reference = [['aku', 'makan', 'durian' ],['kamu', 'makan', 'durian']]\n",
    "\n",
    "\n",
    "input_string = 'hanyu puang nguta ruyan ina'\n",
    "\n",
    "test = translate_input_string(model, input_string, tokenizer_src, tokenizer_tgt, config['seq_len'], device)\n",
    "score = sentence_bleu(reference, test.split(), weights=(1, 0, 0, 0))\n",
    "print(score)"
   ]
  },
  {
   "cell_type": "code",
   "execution_count": 121,
   "metadata": {},
   "outputs": [
    {
     "name": "stdout",
     "output_type": "stream",
     "text": [
      "0.6389431042462724\n"
     ]
    }
   ],
   "source": [
    "\n",
    "reference = [['aku', 'nguta', 'ruyan' ],['hanyu', 'nguta', 'ruyan']]\n",
    "\n",
    "\n",
    "input_string = 'aku makan durian ke sini'\n",
    "\n",
    "test = translate_input_string(model, input_string, tokenizer_src, tokenizer_tgt, config['seq_len'], device)\n",
    "score = sentence_bleu(reference, test.split(), weights=(0.25, 0.25, 0, 0))\n",
    "print(score)"
   ]
  },
  {
   "cell_type": "code",
   "execution_count": 4,
   "metadata": {},
   "outputs": [
    {
     "name": "stdout",
     "output_type": "stream",
     "text": [
      "--------------------------------------------------------------------------------\n",
      "    SOURCE: ma wuang tangan tuanku hanye haut nyarah kawan anak murunsia hang awe awe here muneng\n",
      "    TARGET: ke dalam tangan tuanku ia telah menyerahkan anak-anak manusia di mana pun mereka berada\n",
      " PREDICTED: ke dalam tuanku ia telah anak - anak manusia di mana pun mereka\n",
      "--------------------------------------------------------------------------------\n",
      "    SOURCE: bana yiru puang tau na ari\n",
      "    TARGET: benda itu tidak dapat dijual\n",
      " PREDICTED: itu tidak dapat\n",
      "--------------------------------------------------------------------------------\n",
      "    SOURCE: balalu siwui riwut mitah jendela\n",
      "    TARGET: lalu angin mengembuskannya melalui jendela\n",
      " PREDICTED: lalu\n",
      "--------------------------------------------------------------------------------\n",
      "    SOURCE: palus midi hanye jari panguasa ma katuluh wilayah babel nelang kapala katuluh ulun marahati hang babel\n",
      "    TARGET: serta menjadikannya penguasa atas seluruh wilayah babel dan kepala semua orang bijaksana di babel\n",
      " PREDICTED: atas babel dan kepala semua orang bijaksana di babel\n",
      "--------------------------------------------------------------------------------\n",
      "    SOURCE: angidadakai tuu hanyu bapander na\n",
      "    TARGET: kamu berbicara tidak karuan\n",
      " PREDICTED: kamu tidak\n",
      "--------------------------------------------------------------------------------\n",
      "    SOURCE: lengan silu itak gumer\n",
      "    TARGET: suara telinga nenek gumer\n",
      " PREDICTED: nenek gumer\n",
      "--------------------------------------------------------------------------------\n",
      "    SOURCE: teka awe hanyu haba perak yiru\n",
      "    TARGET: dari mana kamu mendapatkan perak itu\n",
      " PREDICTED: dari mana kamu perak itu\n",
      "--------------------------------------------------------------------------------\n",
      "    SOURCE: hene ulun ngari kenah pas andrau jumahat\n",
      "    TARGET: banyak orang menjual ikan ketika hari jum'at\n",
      " PREDICTED: banyak orang menjual hari\n",
      "--------------------------------------------------------------------------------\n",
      "    SOURCE: perak na tau jari alat pembayaran sadi ru\n",
      "    TARGET: perak ini dulu bisa menjadi alat pembayaran\n",
      " PREDICTED: perak ini dulu bisa menjadi\n",
      "--------------------------------------------------------------------------------\n",
      "    SOURCE: eauni ma hi ariokh\n",
      "    TARGET: katanya kepada ariokh\n",
      " PREDICTED: kepada ariokh\n",
      "--------------------------------------------------------------------------------\n"
     ]
    }
   ],
   "source": [
    "run_validation(model, val_dataloader, tokenizer_src, tokenizer_tgt, config['seq_len'], device, lambda msg: print(msg), 0, None, num_examples=10)"
   ]
  }
 ],
 "metadata": {
  "kernelspec": {
   "display_name": "transformer",
   "language": "python",
   "name": "python3"
  },
  "language_info": {
   "codemirror_mode": {
    "name": "ipython",
    "version": 3
   },
   "file_extension": ".py",
   "mimetype": "text/x-python",
   "name": "python",
   "nbconvert_exporter": "python",
   "pygments_lexer": "ipython3",
   "version": "3.11.4"
  },
  "orig_nbformat": 4
 },
 "nbformat": 4,
 "nbformat_minor": 2
}
